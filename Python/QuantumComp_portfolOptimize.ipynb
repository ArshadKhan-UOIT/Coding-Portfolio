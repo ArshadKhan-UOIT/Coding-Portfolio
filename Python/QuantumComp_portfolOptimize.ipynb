{
 "cells": [
  {
   "cell_type": "markdown",
   "metadata": {},
   "source": [
    "# Quantum - Portfilio Optimization"
   ]
  },
  {
   "cell_type": "code",
   "execution_count": 1,
   "metadata": {},
   "outputs": [],
   "source": [
    "from qiskit import Aer \n",
    "from qiskit.utils import QuantumInstance \n",
    "from qiskit_finance.data_providers import RandomDataProvider\n",
    "from qiskit.algorithms import NumPyMinimumEigensolver, VQE\n",
    "from qiskit_optimization import QuadraticProgram\n",
    "from qiskit_optimization.converters import QuadraticProgramToQubo\n",
    "from qiskit_finance.applications.optimization import PortfolioOptimization\n",
    "from qiskit_optimization.algorithms import MinimumEigenOptimizer, GroverOptimizer\n",
    "import numpy as np\n",
    "import matplotlib.pyplot as plt\n",
    "import datetime\n",
    "from qiskit.utils import algorithm_globals \n",
    "from qiskit.circuit.library import TwoLocal\n",
    "from qiskit.algorithms.optimizers import SPSA\n"
   ]
  },
  {
   "cell_type": "code",
   "execution_count": 2,
   "metadata": {},
   "outputs": [],
   "source": [
    "num_assets = 4\n",
    "\n",
    "# generate expected return and covariance matrix from (random) time-series\n",
    "stocks = [(\"TICKER%s\" % i) for i in range(num_assets)]\n",
    "data = RandomDataProvider(tickers=stocks, start=datetime.datetime(2017,1,1), end=datetime.datetime(2017,1,30))\n",
    "data.run()\n",
    "mu = data.get_period_return_mean_vector()\n",
    "sigma = data.get_period_return_covariance_matrix()"
   ]
  },
  {
   "cell_type": "code",
   "execution_count": 3,
   "metadata": {},
   "outputs": [
    {
     "data": {
      "image/png": "[encoded data removed]",
      "text/plain": [
       "<Figure size 432x288 with 1 Axes>"
      ]
     },
     "metadata": {
      "needs_background": "light"
     },
     "output_type": "display_data"
    }
   ],
   "source": [
    "# plot sigma \n",
    "plt.imshow(sigma, interpolation='nearest')\n",
    "plt.show()"
   ]
  },
  {
   "cell_type": "code",
   "execution_count": 4,
   "metadata": {},
   "outputs": [
    {
     "data": {
      "text/plain": [
       "\\ This file has been generated by DOcplex\n",
       "\\ ENCODING=ISO-8859-1\n",
       "\\Problem name: Portfolio optimization\n",
       "\n",
       "Minimize\n",
       " obj: 0.005765819839 x_0 + 0.005395065308 x_1 - 0.002132413178 x_2\n",
       "      + 0.005167838159 x_3 + [ 0.005826040932 x_0^2 + 0.000599326310 x_0*x_1\n",
       "      + 0.002482190903 x_0*x_2 - 0.001470975435 x_0*x_3 + 0.000809832761 x_1^2\n",
       "      + 0.000577100332 x_1*x_2 - 0.000859674787 x_1*x_3 + 0.006007556415 x_2^2\n",
       "      - 0.001063180384 x_2*x_3 + 0.000997821386 x_3^2 ]/2\n",
       "Subject To\n",
       " c0: x_0 + x_1 + x_2 + x_3 = 2\n",
       "\n",
       "Bounds\n",
       " 0 <= x_0 <= 1\n",
       " 0 <= x_1 <= 1\n",
       " 0 <= x_2 <= 1\n",
       " 0 <= x_3 <= 1\n",
       "\n",
       "Binaries\n",
       " x_0 x_1 x_2 x_3\n",
       "End"
      ]
     },
     "execution_count": 4,
     "metadata": {},
     "output_type": "execute_result"
    }
   ],
   "source": [
    "q = 0.5 # set risk factor \n",
    "budget = num_assets // 2 # set budget \n",
    "penalty = num_assets # set parameter to scale the budget penalty term \n",
    "\n",
    "portfolio = PortfolioOptimization(expected_returns=mu, covariances=sigma, risk_factor=q, budget=budget)\n",
    "qp = portfolio.to_quadratic_program()\n",
    "qp"
   ]
  },
  {
   "cell_type": "code",
   "execution_count": 5,
   "metadata": {},
   "outputs": [],
   "source": [
    "def index_to_selection(i, num_assets):\n",
    "    s = \"{0:b}\".format(i).rjust(num_assets)\n",
    "    x = np.array([1 if s[i]=='1' else 0 for i in reversed(range(num_assets))])\n",
    "    return x\n",
    "\n",
    "def print_results(result):\n",
    "    selection = result.x\n",
    "    value = result.fval\n",
    "    print('Optimal: selection {}, value {:.4f}'.format(selection, value))\n",
    "    \n",
    "    eigenstate = result.min_eigen_solver_result.eigenstate\n",
    "    eigenvector = eigenstate if isinstance(eigenstate, np.ndarray) else eigenstate.to_matrix()\n",
    "    probablities = np.abs(eigenvector)**2\n",
    "    i_sorted = reversed(np.argsort(probablities))\n",
    "    print('\\n--------------Full result------------------')\n",
    "    print('selection\\tvalue\\t\\tprobablity')\n",
    "    print('---------------------------------------------')\n",
    "    for i in i_sorted:\n",
    "        x = index_to_selection(i, num_assets)\n",
    "        value = QuadraticProgramToQubo().convert(qp).objective.evaluate(x)\n",
    "        # value = portfolio.to_quadratic_program().objective.evaluate(x)\n",
    "        probablity = probablities[i]\n",
    "        print('%10s\\t%.4f\\t\\t%.4f' % (x, value, probablity))"
   ]
  },
  {
   "cell_type": "markdown",
   "metadata": {},
   "source": [
    "## Classical Optimization Solver "
   ]
  },
  {
   "cell_type": "code",
   "execution_count": 6,
   "metadata": {},
   "outputs": [
    {
     "name": "stdout",
     "output_type": "stream",
     "text": [
      "Optimal: selection [0. 0. 1. 1.], value 0.0060\n",
      "\n",
      "--------------Full result------------------\n",
      "selection\tvalue\t\tprobablity\n",
      "---------------------------------------------\n",
      " [0 0 1 1]\t0.0060\t\t1.0000\n",
      " [1 1 1 1]\t4.1364\t\t0.0000\n",
      " [0 1 1 1]\t1.0405\t\t0.0000\n",
      " [1 0 1 1]\t1.0440\t\t0.0000\n",
      " [1 1 0 1]\t1.0481\t\t0.0000\n",
      " [0 1 0 1]\t0.0110\t\t0.0000\n",
      " [1 0 0 1]\t0.0136\t\t0.0000\n",
      " [0 0 0 1]\t1.0345\t\t0.0000\n",
      " [1 1 1 0]\t1.0460\t\t0.0000\n",
      " [0 1 1 0]\t0.0070\t\t0.0000\n",
      " [1 0 1 0]\t0.0108\t\t0.0000\n",
      " [0 0 1 0]\t1.0297\t\t0.0000\n",
      " [1 1 0 0]\t0.0148\t\t0.0000\n",
      " [0 1 0 0]\t1.0346\t\t0.0000\n",
      " [1 0 0 0]\t1.0375\t\t0.0000\n",
      " [0 0 0 0]\t4.1152\t\t0.0000\n"
     ]
    }
   ],
   "source": [
    "classicalSolver = MinimumEigenOptimizer(NumPyMinimumEigensolver())\n",
    "result = classicalSolver.solve(qp)\n",
    "print_results(result)"
   ]
  },
  {
   "cell_type": "markdown",
   "metadata": {},
   "source": [
    "## Check if VQE agrees with classical solver  "
   ]
  },
  {
   "cell_type": "code",
   "execution_count": null,
   "metadata": {
    "scrolled": true
   },
   "outputs": [
    {
     "name": "stdout",
     "output_type": "stream",
     "text": [
      "Optimal: selection [0. 0. 1. 1.], value 0.0060\n",
      "\n",
      "--------------Full result------------------\n",
      "selection\tvalue\t\tprobablity\n",
      "---------------------------------------------\n",
      " [1 0 0 1]\t0.0136\t\t0.3694\n",
      " [0 1 0 1]\t0.0110\t\t0.3422\n",
      " [0 1 1 0]\t0.0070\t\t0.2883\n",
      " [1 0 1 0]\t0.0108\t\t0.0000\n",
      " [1 1 1 1]\t4.1364\t\t0.0000\n",
      " [0 0 1 1]\t0.0060\t\t0.0000\n",
      " [0 0 0 0]\t4.1152\t\t0.0000\n",
      " [1 0 0 0]\t1.0375\t\t0.0000\n",
      " [1 1 0 1]\t1.0481\t\t0.0000\n",
      " [0 1 0 0]\t1.0346\t\t0.0000\n",
      " [0 1 1 1]\t1.0405\t\t0.0000\n",
      " [0 0 1 0]\t1.0297\t\t0.0000\n",
      " [0 0 0 1]\t1.0345\t\t0.0000\n",
      " [1 1 1 0]\t1.0460\t\t0.0000\n",
      " [1 0 1 1]\t1.0440\t\t0.0000\n",
      " [1 1 0 0]\t0.0148\t\t0.0000\n"
     ]
    }
   ],
   "source": [
    "seed = 10598\n",
    "backend = Aer.get_backend('aer_simulator_statevector')\n",
    "quantum_instance = QuantumInstance(backend, seed_simulator=seed, seed_transpiler=seed)\n",
    "\n",
    "# construct VQE\n",
    "spsa = SPSA(maxiter=300)\n",
    "ry = TwoLocal(num_assets, 'ry', 'cz', reps=5, entanglement='linear')\n",
    "vqe = VQE(ry, optimizer=spsa, quantum_instance=quantum_instance)\n",
    "\n",
    "# run VQE\n",
    "vqeSolver = MinimumEigenOptimizer(vqe)\n",
    "result = vqeSolver.solve(qp)\n",
    "\n",
    "# print results \n",
    "print_results(result)   # col 1 in wrong order"
   ]
  },
  {
   "cell_type": "markdown",
   "metadata": {},
   "source": [
    "## Check if Grover agrees with classical solver  "
   ]
  },
  {
   "cell_type": "code",
   "execution_count": 8,
   "metadata": {},
   "outputs": [
    {
     "data": {
      "text/plain": [
       "optimal function value: 0.006006523690045078\n",
       "optimal value: [0. 0. 1. 1.]\n",
       "status: SUCCESS"
      ]
     },
     "execution_count": 8,
     "metadata": {},
     "output_type": "execute_result"
    }
   ],
   "source": [
    "grover_optimizer = GroverOptimizer(num_assets*2, num_iterations=10, quantum_instance=backend)\n",
    "results = grover_optimizer.solve(qp)\n",
    "results"
   ]
  },
  {
   "cell_type": "code",
   "execution_count": 9,
   "metadata": {},
   "outputs": [
    {
     "data": {
      "text/plain": [
       "array([0., 0., 1., 1.])"
      ]
     },
     "execution_count": 9,
     "metadata": {},
     "output_type": "execute_result"
    }
   ],
   "source": [
    "results.x"
   ]
  }
 ],
 "metadata": {
  "kernelspec": {
   "display_name": "Python 3",
   "language": "python",
   "name": "python3"
  },
  "language_info": {
   "codemirror_mode": {
    "name": "ipython",
    "version": 3
   },
   "file_extension": ".py",
   "mimetype": "text/x-python",
   "name": "python",
   "nbconvert_exporter": "python",
   "pygments_lexer": "ipython3",
   "version": "3.8.10"
  }
 },
 "nbformat": 4,
 "nbformat_minor": 2
}
