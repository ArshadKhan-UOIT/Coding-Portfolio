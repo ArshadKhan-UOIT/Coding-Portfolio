{
 "cells": [
  {
   "cell_type": "markdown",
   "metadata": {},
   "source": [
    "# Quantum - Error Mitigation"
   ]
  },
  {
   "cell_type": "code",
   "execution_count": 1,
   "metadata": {},
   "outputs": [],
   "source": [
    "from qiskit import QuantumCircuit, QuantumRegister, Aer, execute\n",
    "from qiskit.providers.aer.noise import NoiseModel\n",
    "from qiskit.providers.aer.noise.errors import pauli_error, depolarizing_error\n",
    "from qiskit.ignis.mitigation.measurement import (complete_meas_cal, CompleteMeasFitter)\n",
    "import numpy as np\n",
    "import scipy.linalg as la\n",
    "from qiskit.visualization import plot_histogram"
   ]
  },
  {
   "cell_type": "code",
   "execution_count": 2,
   "metadata": {},
   "outputs": [],
   "source": [
    "def get_noise(p):\n",
    "    error_meas = pauli_error([('X',p), ('I', 1 - p)])\n",
    "    noise_model = NoiseModel()\n",
    "    noise_model.add_all_qubit_quantum_error(error_meas, \"measure\") # measurement error is applied to measurements \n",
    "    return noise_model"
   ]
  },
  {
   "cell_type": "code",
   "execution_count": 3,
   "metadata": {},
   "outputs": [
    {
     "name": "stdout",
     "output_type": "stream",
     "text": [
      "00 becomes {'01': 105, '00': 9793, '10': 102}\n",
      "01 becomes {'00': 83, '01': 9822, '11': 95}\n",
      "10 becomes {'01': 1, '00': 91, '10': 9824, '11': 84}\n",
      "11 becomes {'01': 109, '11': 9810, '00': 2, '10': 79}\n"
     ]
    }
   ],
   "source": [
    "noise_model = get_noise(0.01)\n",
    "\n",
    "for state in ['00','01','10','11']:\n",
    "    qc = QuantumCircuit(2,2)\n",
    "    if state[0] == '1':\n",
    "        qc.x(1)\n",
    "    if state[1] == '1':\n",
    "        qc.x(0)\n",
    "    qc.measure(qc.qregs[0], qc.cregs[0])\n",
    "    print(state+' becomes',execute(qc, Aer.get_backend('qasm_simulator'),noise_model=noise_model,shots=10000).result().get_counts())"
   ]
  },
  {
   "cell_type": "code",
   "execution_count": 4,
   "metadata": {},
   "outputs": [
    {
     "name": "stdout",
     "output_type": "stream",
     "text": [
      "{'01': 87, '10': 92, '00': 4903, '11': 4918}\n"
     ]
    }
   ],
   "source": [
    "qc = QuantumCircuit(2,2)\n",
    "qc.h(0)\n",
    "qc.cx(0,1)\n",
    "qc.measure(qc.qregs[0], qc.cregs[0])\n",
    "print(execute(qc, Aer.get_backend('qasm_simulator'),noise_model=noise_model,shots=10000).result().get_counts())"
   ]
  },
  {
   "cell_type": "code",
   "execution_count": 5,
   "metadata": {},
   "outputs": [
    {
     "name": "stdout",
     "output_type": "stream",
     "text": [
      "C_noisy =\n",
      " [[4889.5]\n",
      " [ 110.5]\n",
      " [ 106. ]\n",
      " [4901.5]]\n"
     ]
    }
   ],
   "source": [
    "M = [[ 0.9777, 0.0112, 0.0100, 0.0002 ], \n",
    "     [ 0.0112, 0.9778, 0.0001, 0.0109 ],\n",
    "     [ 0.0100, 0.0000, 0.9788, 0.0112 ],\n",
    "     [ 0.0002, 0.0084, 0.0113, 0.9801 ]]\n",
    "\n",
    "Cideal = [[5000],\n",
    "          [0],\n",
    "          [0],\n",
    "          [5000]]\n",
    "\n",
    "Cnoisy = np.dot(M, Cideal)\n",
    "print('C_noisy =\\n',Cnoisy)"
   ]
  },
  {
   "cell_type": "code",
   "execution_count": 6,
   "metadata": {},
   "outputs": [
    {
     "name": "stdout",
     "output_type": "stream",
     "text": [
      "[[ 1.02304976e+00 -1.17186559e-02 -1.04513578e-02  4.09943919e-05]\n",
      " [-1.17173704e-02  1.02293597e+00  1.46531715e-04 -1.13756757e-02]\n",
      " [-1.04522210e-02  2.20044977e-04  1.02190076e+00 -1.16779885e-02]\n",
      " [ 1.21682031e-05 -8.76727366e-03 -1.17810623e-02  1.02053618e+00]]\n"
     ]
    }
   ],
   "source": [
    "Minv = la.inv(M)\n",
    "print(Minv)"
   ]
  },
  {
   "cell_type": "code",
   "execution_count": 7,
   "metadata": {},
   "outputs": [
    {
     "name": "stdout",
     "output_type": "stream",
     "text": [
      "Cmitigated = \n",
      " [5010.90166117   -6.73347357   -8.24551171 4996.57948692]\n"
     ]
    }
   ],
   "source": [
    "Cmeasured = [4900, 104, 98, 4898]\n",
    "Cmitigated = np.dot(Minv, Cmeasured)\n",
    "print('Cmitigated = \\n',Cmitigated)"
   ]
  },
  {
   "cell_type": "code",
   "execution_count": 8,
   "metadata": {},
   "outputs": [
    {
     "name": "stdout",
     "output_type": "stream",
     "text": [
      "Circuit mcalcal_00\n",
      "        ░ ┌─┐   \n",
      "q40_0: ─░─┤M├───\n",
      "        ░ └╥┘┌─┐\n",
      "q40_1: ─░──╫─┤M├\n",
      "        ░  ║ └╥┘\n",
      " c0: 2/════╩══╩═\n",
      "           0  1 \n",
      "\n",
      "Circuit mcalcal_01\n",
      "       ┌───┐ ░ ┌─┐   \n",
      "q40_0: ┤ X ├─░─┤M├───\n",
      "       └───┘ ░ └╥┘┌─┐\n",
      "q40_1: ──────░──╫─┤M├\n",
      "             ░  ║ └╥┘\n",
      " c0: 2/═════════╩══╩═\n",
      "                0  1 \n",
      "\n",
      "Circuit mcalcal_10\n",
      "             ░ ┌─┐   \n",
      "q40_0: ──────░─┤M├───\n",
      "       ┌───┐ ░ └╥┘┌─┐\n",
      "q40_1: ┤ X ├─░──╫─┤M├\n",
      "       └───┘ ░  ║ └╥┘\n",
      " c0: 2/═════════╩══╩═\n",
      "                0  1 \n",
      "\n",
      "Circuit mcalcal_11\n",
      "       ┌───┐ ░ ┌─┐   \n",
      "q40_0: ┤ X ├─░─┤M├───\n",
      "       ├───┤ ░ └╥┘┌─┐\n",
      "q40_1: ┤ X ├─░──╫─┤M├\n",
      "       └───┘ ░  ║ └╥┘\n",
      " c0: 2/═════════╩══╩═\n",
      "                0  1 \n",
      "\n"
     ]
    }
   ],
   "source": [
    "qr = QuantumRegister(2)\n",
    "meas_calibs, state_labels = complete_meas_cal(qr=qr, circlabel='mcal')\n",
    "\n",
    "for circuit in meas_calibs:\n",
    "    print('Circuit',circuit.name)\n",
    "    print(circuit)\n",
    "    print()"
   ]
  },
  {
   "cell_type": "code",
   "execution_count": 9,
   "metadata": {},
   "outputs": [
    {
     "name": "stdout",
     "output_type": "stream",
     "text": [
      "[[0.804 0.092 0.107 0.01 ]\n",
      " [0.095 0.803 0.009 0.087]\n",
      " [0.093 0.011 0.783 0.083]\n",
      " [0.008 0.094 0.101 0.82 ]]\n"
     ]
    }
   ],
   "source": [
    "noise_model = get_noise(0.1)\n",
    "\n",
    "backend = Aer.get_backend('qasm_simulator')\n",
    "job = execute(meas_calibs, backend=backend, shots=1000, noise_model=noise_model)\n",
    "cal_results = job.result()\n",
    "\n",
    "meas_fitter = CompleteMeasFitter(cal_results, state_labels, circlabel='mcal')\n",
    "print(meas_fitter.cal_matrix)"
   ]
  },
  {
   "cell_type": "code",
   "execution_count": 10,
   "metadata": {},
   "outputs": [
    {
     "name": "stdout",
     "output_type": "stream",
     "text": [
      "{'01': 943, '11': 4036, '10': 907, '00': 4114}\n"
     ]
    }
   ],
   "source": [
    "qc = QuantumCircuit(2,2)\n",
    "qc.h(0)\n",
    "qc.cx(0,1)\n",
    "qc.measure(qc.qregs[0], qc.cregs[0])\n",
    "\n",
    "results = execute(qc, backend=backend, shots=10000, noise_model=noise_model).result()\n",
    "\n",
    "noisy_counts = results.get_counts()\n",
    "print(noisy_counts)"
   ]
  },
  {
   "cell_type": "code",
   "execution_count": 11,
   "metadata": {},
   "outputs": [
    {
     "data": {
      "image/png": "[encoded data removed]",
      "text/plain": [
       "<Figure size 504x360 with 1 Axes>"
      ]
     },
     "execution_count": 11,
     "metadata": {},
     "output_type": "execute_result"
    }
   ],
   "source": [
    "# get the filler object\n",
    "meas_filter = meas_fitter.filter\n",
    "\n",
    "# results with mitigation \n",
    "mitigated_results = meas_filter.apply(results)\n",
    "mitigated_counts = mitigated_results.get_counts(0)\n",
    "\n",
    "plot_histogram([noisy_counts, mitigated_counts], legend=['noisy','mitigated'])"
   ]
  },
  {
   "cell_type": "markdown",
   "metadata": {},
   "source": [
    "## Activity 1"
   ]
  },
  {
   "cell_type": "code",
   "execution_count": 12,
   "metadata": {},
   "outputs": [
    {
     "name": "stdout",
     "output_type": "stream",
     "text": [
      "{'001': 90, '010': 87, '100': 3719, '110': 838, '011': 434, '111': 3626, '000': 422, '101': 784}\n"
     ]
    }
   ],
   "source": [
    "qc = QuantumCircuit(3,3)\n",
    "qc.h(0)\n",
    "qc.cx(0,1)\n",
    "qc.x(2)\n",
    "qc.measure(qc.qregs[0], qc.cregs[0])\n",
    "\n",
    "results = execute(qc, backend=backend, shots=10000, noise_model=noise_model).result()\n",
    "\n",
    "noisy_counts = results.get_counts()\n",
    "print(noisy_counts)"
   ]
  },
  {
   "cell_type": "code",
   "execution_count": 13,
   "metadata": {},
   "outputs": [
    {
     "name": "stdout",
     "output_type": "stream",
     "text": [
      "Circuit mcalcal_000\n",
      "        ░ ┌─┐      \n",
      "q66_0: ─░─┤M├──────\n",
      "        ░ └╥┘┌─┐   \n",
      "q66_1: ─░──╫─┤M├───\n",
      "        ░  ║ └╥┘┌─┐\n",
      "q66_2: ─░──╫──╫─┤M├\n",
      "        ░  ║  ║ └╥┘\n",
      " c1: 3/════╩══╩══╩═\n",
      "           0  1  2 \n",
      "\n",
      "Circuit mcalcal_001\n",
      "       ┌───┐ ░ ┌─┐      \n",
      "q66_0: ┤ X ├─░─┤M├──────\n",
      "       └───┘ ░ └╥┘┌─┐   \n",
      "q66_1: ──────░──╫─┤M├───\n",
      "             ░  ║ └╥┘┌─┐\n",
      "q66_2: ──────░──╫──╫─┤M├\n",
      "             ░  ║  ║ └╥┘\n",
      " c1: 3/═════════╩══╩══╩═\n",
      "                0  1  2 \n",
      "\n",
      "Circuit mcalcal_010\n",
      "             ░ ┌─┐      \n",
      "q66_0: ──────░─┤M├──────\n",
      "       ┌───┐ ░ └╥┘┌─┐   \n",
      "q66_1: ┤ X ├─░──╫─┤M├───\n",
      "       └───┘ ░  ║ └╥┘┌─┐\n",
      "q66_2: ──────░──╫──╫─┤M├\n",
      "             ░  ║  ║ └╥┘\n",
      " c1: 3/═════════╩══╩══╩═\n",
      "                0  1  2 \n",
      "\n",
      "Circuit mcalcal_011\n",
      "       ┌───┐ ░ ┌─┐      \n",
      "q66_0: ┤ X ├─░─┤M├──────\n",
      "       ├───┤ ░ └╥┘┌─┐   \n",
      "q66_1: ┤ X ├─░──╫─┤M├───\n",
      "       └───┘ ░  ║ └╥┘┌─┐\n",
      "q66_2: ──────░──╫──╫─┤M├\n",
      "             ░  ║  ║ └╥┘\n",
      " c1: 3/═════════╩══╩══╩═\n",
      "                0  1  2 \n",
      "\n",
      "Circuit mcalcal_100\n",
      "             ░ ┌─┐      \n",
      "q66_0: ──────░─┤M├──────\n",
      "             ░ └╥┘┌─┐   \n",
      "q66_1: ──────░──╫─┤M├───\n",
      "       ┌───┐ ░  ║ └╥┘┌─┐\n",
      "q66_2: ┤ X ├─░──╫──╫─┤M├\n",
      "       └───┘ ░  ║  ║ └╥┘\n",
      " c1: 3/═════════╩══╩══╩═\n",
      "                0  1  2 \n",
      "\n",
      "Circuit mcalcal_101\n",
      "       ┌───┐ ░ ┌─┐      \n",
      "q66_0: ┤ X ├─░─┤M├──────\n",
      "       └───┘ ░ └╥┘┌─┐   \n",
      "q66_1: ──────░──╫─┤M├───\n",
      "       ┌───┐ ░  ║ └╥┘┌─┐\n",
      "q66_2: ┤ X ├─░──╫──╫─┤M├\n",
      "       └───┘ ░  ║  ║ └╥┘\n",
      " c1: 3/═════════╩══╩══╩═\n",
      "                0  1  2 \n",
      "\n",
      "Circuit mcalcal_110\n",
      "             ░ ┌─┐      \n",
      "q66_0: ──────░─┤M├──────\n",
      "       ┌───┐ ░ └╥┘┌─┐   \n",
      "q66_1: ┤ X ├─░──╫─┤M├───\n",
      "       ├───┤ ░  ║ └╥┘┌─┐\n",
      "q66_2: ┤ X ├─░──╫──╫─┤M├\n",
      "       └───┘ ░  ║  ║ └╥┘\n",
      " c1: 3/═════════╩══╩══╩═\n",
      "                0  1  2 \n",
      "\n",
      "Circuit mcalcal_111\n",
      "       ┌───┐ ░ ┌─┐      \n",
      "q66_0: ┤ X ├─░─┤M├──────\n",
      "       ├───┤ ░ └╥┘┌─┐   \n",
      "q66_1: ┤ X ├─░──╫─┤M├───\n",
      "       ├───┤ ░  ║ └╥┘┌─┐\n",
      "q66_2: ┤ X ├─░──╫──╫─┤M├\n",
      "       └───┘ ░  ║  ║ └╥┘\n",
      " c1: 3/═════════╩══╩══╩═\n",
      "                0  1  2 \n",
      "\n"
     ]
    }
   ],
   "source": [
    "qr = QuantumRegister(3)\n",
    "meas_calibs, state_labels = complete_meas_cal(qr=qr, circlabel='mcal')\n",
    "\n",
    "for circuit in meas_calibs:\n",
    "    print('Circuit',circuit.name)\n",
    "    print(circuit)\n",
    "    print()"
   ]
  },
  {
   "cell_type": "code",
   "execution_count": 14,
   "metadata": {},
   "outputs": [
    {
     "name": "stdout",
     "output_type": "stream",
     "text": [
      "[[0.749 0.093 0.073 0.005 0.089 0.01  0.006 0.   ]\n",
      " [0.062 0.739 0.003 0.068 0.005 0.067 0.001 0.011]\n",
      " [0.078 0.004 0.737 0.083 0.014 0.001 0.084 0.007]\n",
      " [0.007 0.072 0.075 0.739 0.    0.009 0.009 0.074]\n",
      " [0.086 0.005 0.01  0.001 0.731 0.086 0.086 0.012]\n",
      " [0.012 0.08  0.002 0.007 0.071 0.732 0.009 0.083]\n",
      " [0.006 0.    0.091 0.006 0.081 0.011 0.726 0.091]\n",
      " [0.    0.007 0.009 0.091 0.009 0.084 0.079 0.722]]\n"
     ]
    }
   ],
   "source": [
    "noise_model = get_noise(0.1)\n",
    "\n",
    "backend = Aer.get_backend('qasm_simulator')\n",
    "job = execute(meas_calibs, backend=backend, shots=1000, noise_model=noise_model)\n",
    "cal_results = job.result()\n",
    "\n",
    "meas_fitter = CompleteMeasFitter(cal_results, state_labels, circlabel='mcal')\n",
    "print(meas_fitter.cal_matrix)"
   ]
  },
  {
   "cell_type": "code",
   "execution_count": 15,
   "metadata": {},
   "outputs": [
    {
     "data": {
      "image/png": "[encoded data removed]",
      "text/plain": [
       "<Figure size 504x360 with 1 Axes>"
      ]
     },
     "execution_count": 15,
     "metadata": {},
     "output_type": "execute_result"
    }
   ],
   "source": [
    "# get the filler object\n",
    "meas_filter = meas_fitter.filter\n",
    "\n",
    "# results with mitigation \n",
    "mitigated_results = meas_filter.apply(results)\n",
    "mitigated_counts = mitigated_results.get_counts(0)\n",
    "\n",
    "plot_histogram([noisy_counts, mitigated_counts], legend=['noisy','mitigated'])"
   ]
  }
 ],
 "metadata": {
  "kernelspec": {
   "display_name": "Python 3",
   "language": "python",
   "name": "python3"
  },
  "language_info": {
   "codemirror_mode": {
    "name": "ipython",
    "version": 3
   },
   "file_extension": ".py",
   "mimetype": "text/x-python",
   "name": "python",
   "nbconvert_exporter": "python",
   "pygments_lexer": "ipython3",
   "version": "3.8.10"
  }
 },
 "nbformat": 4,
 "nbformat_minor": 2
}
