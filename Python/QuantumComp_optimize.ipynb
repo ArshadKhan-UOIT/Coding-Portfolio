{
 "cells": [
  {
   "cell_type": "markdown",
   "metadata": {},
   "source": [
    "# Quantum - Quantum Optimization"
   ]
  },
  {
   "cell_type": "code",
   "execution_count": 1,
   "metadata": {},
   "outputs": [],
   "source": [
    "# some standard code imports\n",
    "import matplotlib.pyplot as plt\n",
    "import matplotlib.axes as axes\n",
    "import numpy as np\n",
    "\n",
    "# for drawing graphs \n",
    "import networkx as nx\n",
    "\n",
    "# qiskit imports \n",
    "from qiskit import Aer, execute, QuantumCircuit\n",
    "from qiskit.circuit.library import TwoLocal, RealAmplitudes\n",
    "from qiskit.quantum_info import Statevector\n",
    "from qiskit_optimization import QuadraticProgram\n",
    "from qiskit.algorithms import NumPyMinimumEigensolver, VQE\n",
    "from qiskit_optimization.algorithms import MinimumEigenOptimizer, RecursiveMinimumEigenOptimizer\n",
    "from qiskit_optimization.converters import LinearEqualityToPenalty, QuadraticProgramToQubo\n",
    "from qiskit.algorithms.optimizers import SPSA\n",
    "from qiskit.utils import algorithm_globals, QuantumInstance\n",
    "from qiskit_optimization.applications import Maxcut, Tsp\n",
    "from qiskit_optimization.translators import from_docplex_mp\n",
    "from docplex.mp.model import Model"
   ]
  },
  {
   "cell_type": "code",
   "execution_count": 2,
   "metadata": {},
   "outputs": [],
   "source": [
    "# auxillary function of plot graphs \n",
    "def plot_result(G, x):\n",
    "    colors = ['r' if x[i] == 0 else 'b' for i in range(n)]\n",
    "    pos, default_axes = nx.spring_layout(G), plt.axes(frameon=True)\n",
    "    nx.draw_networkx(G, node_color=colors, node_size=600, alpha=0.8, pos=pos)"
   ]
  },
  {
   "cell_type": "code",
   "execution_count": 3,
   "metadata": {},
   "outputs": [
    {
     "data": {
      "image/png": "[encoded data removed]",
      "text/plain": [
       "<Figure size 432x288 with 1 Axes>"
      ]
     },
     "metadata": {},
     "output_type": "display_data"
    }
   ],
   "source": [
    "# create graph \n",
    "G = nx.Graph()\n",
    "\n",
    "# add 6 nodes \n",
    "n = 6\n",
    "G.add_nodes_from(range(n))\n",
    "\n",
    "# add edges; tuple is (i,j,weight) where (i,j) is the edge \n",
    "edges = [(0, 1, 1.0), \n",
    "         (0, 3, 1.0),\n",
    "         (1, 2, 1.0),\n",
    "         (2, 3, 1.0),\n",
    "         (2, 4, 1.0),\n",
    "         (3, 4, 1.0),\n",
    "         (4, 5, 1.0),\n",
    "         (0, 5, 1.0)]\n",
    "G.add_weighted_edges_from(edges)\n",
    "\n",
    "# plot graph \n",
    "plot_result(G, [0]*n)"
   ]
  },
  {
   "cell_type": "code",
   "execution_count": 4,
   "metadata": {},
   "outputs": [
    {
     "name": "stdout",
     "output_type": "stream",
     "text": [
      "// This file has been generated by DOcplex\n",
      "// model name is: MaxCut\n",
      "// var contrainer section\n",
      "dvar bool x[6];\n",
      "\n",
      "minimize\n",
      " 3 x0 + 2 x1 + 3 x2 + 3 x3 + 3 x4 + 2 x5 [ - 2 x0*x1 - 2 x0*x3 - 2 x0*x5\n",
      " - 2 x1*x2 - 2 x2*x3 - 2 x2*x4 - 2 x3*x4 - 2 x4*x5 ];\n",
      " \n",
      "subject to {\n",
      " x0 + x1 + x2 + x3 + x4 + x5 == 2;\n",
      "\n",
      "}\n"
     ]
    }
   ],
   "source": [
    "# name of the model\n",
    "mdl = Model('MaxCut')\n",
    "\n",
    "# add a binary variable to the model for each node in the graph \n",
    "x = mdl.binary_var_list('x{}'.format(i) for i in range(n))\n",
    "\n",
    "# define the objective function \n",
    "objective = mdl.sum([ w * (x[i] + x[j] - 2*x[i]*x[j]) for (i, j, w) in edges])\n",
    "\n",
    "# add an equality constraint\n",
    "b = 2\n",
    "mdl.add_constraint(mdl.sum(x) == b)\n",
    "\n",
    "# and let's maximize it!\n",
    "mdl.minimize(objective)\n",
    "\n",
    "# lets print the model \n",
    "mdl.prettyprint()"
   ]
  },
  {
   "cell_type": "code",
   "execution_count": 5,
   "metadata": {},
   "outputs": [
    {
     "name": "stdout",
     "output_type": "stream",
     "text": [
      "\\ This file has been generated by DOcplex\n",
      "\\ ENCODING=ISO-8859-1\n",
      "\\Problem name: MaxCut\n",
      "\n",
      "Minimize\n",
      " obj: 3 x0 + 2 x1 + 3 x2 + 3 x3 + 3 x4 + 2 x5 + [ - 4 x0*x1 - 4 x0*x3 - 4 x0*x5\n",
      "      - 4 x1*x2 - 4 x2*x3 - 4 x2*x4 - 4 x3*x4 - 4 x4*x5 ]/2\n",
      "Subject To\n",
      " c0: x0 + x1 + x2 + x3 + x4 + x5 = 2\n",
      "\n",
      "Bounds\n",
      " 0 <= x0 <= 1\n",
      " 0 <= x1 <= 1\n",
      " 0 <= x2 <= 1\n",
      " 0 <= x3 <= 1\n",
      " 0 <= x4 <= 1\n",
      " 0 <= x5 <= 1\n",
      "\n",
      "Binaries\n",
      " x0 x1 x2 x3 x4 x5\n",
      "End\n",
      "\n"
     ]
    }
   ],
   "source": [
    "# instantiate an empty QuadraticProgram object \n",
    "qp = QuadraticProgram()\n",
    "\n",
    "# put the model inside it \n",
    "qp = from_docplex_mp(mdl)\n",
    "\n",
    "print(qp.export_as_lp_string())"
   ]
  },
  {
   "cell_type": "code",
   "execution_count": 6,
   "metadata": {},
   "outputs": [
    {
     "data": {
      "text/plain": [
       "{0: 3.0, 1: 2.0, 3: 3.0, 2: 3.0, 4: 3.0, 5: 2.0}"
      ]
     },
     "execution_count": 6,
     "metadata": {},
     "output_type": "execute_result"
    }
   ],
   "source": [
    "qp.objective.linear.to_dict()"
   ]
  },
  {
   "cell_type": "code",
   "execution_count": 7,
   "metadata": {},
   "outputs": [
    {
     "data": {
      "text/plain": [
       "{(0, 1): -2.0,\n",
       " (1, 2): -2.0,\n",
       " (0, 3): -2.0,\n",
       " (2, 3): -2.0,\n",
       " (2, 4): -2.0,\n",
       " (3, 4): -2.0,\n",
       " (0, 5): -2.0,\n",
       " (4, 5): -2.0}"
      ]
     },
     "execution_count": 7,
     "metadata": {},
     "output_type": "execute_result"
    }
   ],
   "source": [
    "qp.objective.quadratic.to_dict()"
   ]
  },
  {
   "cell_type": "code",
   "execution_count": 8,
   "metadata": {},
   "outputs": [
    {
     "name": "stdout",
     "output_type": "stream",
     "text": [
      "\\ This file has been generated by DOcplex\n",
      "\\ ENCODING=ISO-8859-1\n",
      "\\Problem name: MaxCut\n",
      "\n",
      "Minimize\n",
      " obj: - 129 x0 - 130 x1 - 129 x2 - 129 x3 - 129 x4 - 130 x5 + [ 66 x0^2\n",
      "      + 128 x0*x1 + 132 x0*x2 + 128 x0*x3 + 132 x0*x4 + 128 x0*x5 + 66 x1^2\n",
      "      + 128 x1*x2 + 132 x1*x3 + 132 x1*x4 + 132 x1*x5 + 66 x2^2 + 128 x2*x3\n",
      "      + 128 x2*x4 + 132 x2*x5 + 66 x3^2 + 128 x3*x4 + 132 x3*x5 + 66 x4^2\n",
      "      + 128 x4*x5 + 66 x5^2 ]/2 + 132\n",
      "Subject To\n",
      "\n",
      "Bounds\n",
      " 0 <= x0 <= 1\n",
      " 0 <= x1 <= 1\n",
      " 0 <= x2 <= 1\n",
      " 0 <= x3 <= 1\n",
      " 0 <= x4 <= 1\n",
      " 0 <= x5 <= 1\n",
      "\n",
      "Binaries\n",
      " x0 x1 x2 x3 x4 x5\n",
      "End\n",
      "\n"
     ]
    }
   ],
   "source": [
    "eq_converter = LinearEqualityToPenalty()\n",
    "qp_eq = eq_converter.convert(qp)\n",
    "print(qp_eq.export_as_lp_string())"
   ]
  },
  {
   "cell_type": "code",
   "execution_count": 9,
   "metadata": {},
   "outputs": [
    {
     "name": "stdout",
     "output_type": "stream",
     "text": [
      "optimal function value: 3.0\n",
      "optimal value: [1. 1. 0. 0. 0. 0.]\n",
      "status: SUCCESS\n"
     ]
    },
    {
     "data": {
      "image/png": "[encoded data removed]",
      "text/plain": [
       "<Figure size 432x288 with 1 Axes>"
      ]
     },
     "metadata": {},
     "output_type": "display_data"
    }
   ],
   "source": [
    "solver = MinimumEigenOptimizer(NumPyMinimumEigensolver())\n",
    "result = solver.solve(qp)\n",
    "print(result)\n",
    "plot_result(G, result.x)"
   ]
  },
  {
   "cell_type": "code",
   "execution_count": 10,
   "metadata": {},
   "outputs": [
    {
     "name": "stdout",
     "output_type": "stream",
     "text": [
      "offset - 86.5\n",
      "h - -33.0 * ZIIIII\n",
      "- 33.0 * IZIIII\n",
      "+ 16.0 * ZZIIII\n",
      "- 33.0 * IIZIII\n",
      "+ 16.5 * ZIZIII\n",
      "+ 16.0 * IZZIII\n",
      "- 33.0 * IIIZII\n",
      "+ 16.5 * ZIIZII\n",
      "+ 16.0 * IZIZII\n",
      "+ 16.0 * IIZZII\n",
      "- 33.0 * IIIIZI\n",
      "+ 16.5 * ZIIIZI\n",
      "+ 16.5 * IZIIZI\n",
      "+ 16.5 * IIZIZI\n",
      "+ 16.0 * IIIZZI\n",
      "- 33.0 * IIIIIZ\n",
      "+ 16.0 * ZIIIIZ\n",
      "+ 16.5 * IZIIIZ\n",
      "+ 16.0 * IIZIIZ\n",
      "+ 16.5 * IIIZIZ\n",
      "+ 16.0 * IIIIZZ\n"
     ]
    }
   ],
   "source": [
    "H, offset = qp_eq.to_ising()\n",
    "print('offset -',offset)\n",
    "print('h -',H)"
   ]
  },
  {
   "cell_type": "code",
   "execution_count": 11,
   "metadata": {},
   "outputs": [
    {
     "name": "stdout",
     "output_type": "stream",
     "text": [
      "Minimum energy for Hamiltonian: -83.5\n"
     ]
    },
    {
     "data": {
      "image/png": "[encoded data removed]",
      "text/plain": [
       "<Figure size 432x288 with 1 Axes>"
      ]
     },
     "metadata": {
      "needs_background": "light"
     },
     "output_type": "display_data"
    }
   ],
   "source": [
    "H_matrix = np.real(H.to_matrix())\n",
    "\n",
    "# get the set of basis states which have the lowest energy \n",
    "opt_indicies = list(np.where(H_matrix.diagonal() == min(H_matrix.diagonal())))[0]\n",
    "\n",
    "print('Minimum energy for Hamiltonian: {0}'.format(min(H_matrix.diagonal())))\n",
    "# plot the expectation value of the energy of different basis states,\n",
    "# and colour those basis states which would have the losest energy \n",
    "plt.bar(range(2**n), H_matrix.diagonal())\n",
    "plt.bar(opt_indicies, H_matrix.diagonal()[opt_indicies], color='g')\n",
    "plt.xticks(range(2**n), ['('+str(i)+') {0:06b}'.format(i) for i in range(2**n)], rotation=90, fontsize=14)\n",
    "plt.yticks(fontsize=14)\n",
    "plt.show()"
   ]
  },
  {
   "cell_type": "code",
   "execution_count": 12,
   "metadata": {},
   "outputs": [
    {
     "name": "stdout",
     "output_type": "stream",
     "text": [
      "energy: -81.41644430347945\n",
      "time: 2.5724198818206787\n",
      "max-cut objective 5.083555696520548\n"
     ]
    }
   ],
   "source": [
    "seed = 10598\n",
    "backend = Aer.get_backend('aer_simulator_statevector')\n",
    "quantum_instance = QuantumInstance(backend, seed_simulator=seed, seed_transpiler=seed)\n",
    "\n",
    "# construct VQE\n",
    "spsa = SPSA(maxiter=300)\n",
    "ry = TwoLocal(H.num_qubits, 'ry', 'cz', reps=5, entanglement='linear')\n",
    "vqe = VQE(ry, optimizer=spsa, quantum_instance=quantum_instance)\n",
    "\n",
    "# run VQE\n",
    "result = vqe.compute_minimum_eigenvalue(H)\n",
    "\n",
    "# print results \n",
    "print('energy:',result.eigenvalue.real)\n",
    "print('time:',result.optimizer_time)\n",
    "print('max-cut objective',result.eigenvalue.real + offset)"
   ]
  },
  {
   "cell_type": "markdown",
   "metadata": {},
   "source": [
    "## Laboratory Activity"
   ]
  },
  {
   "cell_type": "code",
   "execution_count": 13,
   "metadata": {},
   "outputs": [
    {
     "name": "stdout",
     "output_type": "stream",
     "text": [
      "[[0. 1. 0. 1. 0. 1.]\n",
      " [1. 0. 1. 0. 0. 0.]\n",
      " [0. 1. 0. 1. 1. 0.]\n",
      " [1. 0. 1. 0. 1. 0.]\n",
      " [0. 0. 1. 1. 0. 1.]\n",
      " [1. 0. 0. 0. 1. 0.]]\n"
     ]
    }
   ],
   "source": [
    "w = np.zeros([n,n])\n",
    "for i in range(n):\n",
    "    for j in range(n):\n",
    "        temp = G.get_edge_data(i,j,default=0)\n",
    "        if temp != 0:\n",
    "            w[i,j] = 1\n",
    "print(w)"
   ]
  },
  {
   "cell_type": "code",
   "execution_count": 14,
   "metadata": {},
   "outputs": [
    {
     "name": "stdout",
     "output_type": "stream",
     "text": [
      "solution: [0. 0. 1. 0. 1. 0.]\n",
      "solution objective: 4.0\n"
     ]
    }
   ],
   "source": [
    "max_cut = Maxcut(w)\n",
    "x = max_cut.sample_most_likely(result.eigenstate)\n",
    "print('solution:',x)\n",
    "print('solution objective:',qp.objective.evaluate(x))"
   ]
  }
 ],
 "metadata": {
  "kernelspec": {
   "display_name": "Python 3",
   "language": "python",
   "name": "python3"
  },
  "language_info": {
   "codemirror_mode": {
    "name": "ipython",
    "version": 3
   },
   "file_extension": ".py",
   "mimetype": "text/x-python",
   "name": "python",
   "nbconvert_exporter": "python",
   "pygments_lexer": "ipython3",
   "version": "3.8.10"
  }
 },
 "nbformat": 4,
 "nbformat_minor": 2
}
