{
 "cells": [
  {
   "cell_type": "markdown",
   "metadata": {},
   "source": [
    "# Quantum - Quantum Key Distribution & Balance Functions "
   ]
  },
  {
   "cell_type": "code",
   "execution_count": 13,
   "metadata": {},
   "outputs": [],
   "source": [
    "from qiskit import QuantumCircuit, QuantumRegister, ClassicalRegister, execute, BasicAer, Aer\n",
    "from qiskit.visualization import plot_histogram, plot_bloch_multivector \n",
    "from qiskit.extensions import Initialize\n",
    "from math import sqrt, pi\n",
    "import matplotlib.pyplot as plt\n",
    "from mpl_toolkits.mplot3d import Axes3D\n",
    "from qiskit_textbook.tools import array_to_latex, random_state\n",
    "import numpy as np\n",
    "from numpy.random import randint\n",
    "\n"
   ]
  },
  {
   "cell_type": "markdown",
   "metadata": {},
   "source": [
    "## Quantum Key Distribution"
   ]
  },
  {
   "cell_type": "code",
   "execution_count": 17,
   "metadata": {},
   "outputs": [],
   "source": [
    "def encode_message(bits, bases):\n",
    "    message = []\n",
    "    for i in range(n):\n",
    "        qc = QuantumCircuit(1,1)\n",
    "        if bases[i] == 0:\n",
    "            if bits[i] == 0:\n",
    "                pass\n",
    "            else:\n",
    "                qc.x(0)\n",
    "        else:\n",
    "            qc.x(0)\n",
    "            qc.h(0)\n",
    "        qc.barrier()\n",
    "        message.append(qc)\n",
    "    return message \n",
    "        \n",
    "def measure_message(message, bases):\n",
    "    backend = Aer.get_backend('qasm_simulator')\n",
    "    measurements = []\n",
    "    for q in range(n):\n",
    "        if bases[q] == 0: # measuring in z-basis\n",
    "            message[q].measure(0,0)\n",
    "        if bases[q] == 1:\n",
    "            message[q].h(0)\n",
    "            message[q].measure(0,0)\n",
    "        result = execute(message[q], backend, shots=1, memory=True).result()\n",
    "        measured_bit = int(result.get_memory()[0])\n",
    "        measurements.append(measured_bit)\n",
    "    return measurements\n",
    "\n",
    "def remove_garbage(a_bases, b_bases, bits):\n",
    "    good_bits = []\n",
    "    for q in range(n):\n",
    "        if a_bases[q] == b_bases[q]:\n",
    "            # If both used the same basis, add\n",
    "            # this to the list of 'good' bits \n",
    "            good_bits.append(bits[q])\n",
    "    return good_bits\n",
    "\n",
    "def sample_bits(bits, selection):\n",
    "    sample = []\n",
    "    for i in selection:\n",
    "        # use np.mod to make sure the \n",
    "        # bit we sample is always in \n",
    "        # the list range\n",
    "        i = np.mod(1, len(bits))\n",
    "        # pop(i) removes the element of the \n",
    "        # list as index 'i'\n",
    "        sample.append(bits.pop(i))\n",
    "    return sample\n"
   ]
  },
  {
   "cell_type": "code",
   "execution_count": 22,
   "metadata": {},
   "outputs": [
    {
     "name": "stdout",
     "output_type": "stream",
     "text": [
      " bob_sample = [0, 1, 1, 1, 1, 0, 0, 1, 0, 1, 1, 1, 1, 0, 1]\n",
      " alice_sample = [0, 1, 1, 1, 1, 0, 0, 1, 0, 0, 0, 1, 1, 0, 1]\n",
      "key is compromized\n",
      "Efficiency: 0.474\n"
     ]
    }
   ],
   "source": [
    "np.random.seed(seed=0)\n",
    "n = 1000 \n",
    "\n",
    "## step 1 - alice generates bits \n",
    "alice_bits = randint(2, size=n)\n",
    "\n",
    "## step 2 - create an array to tell us which qubits \n",
    "# are encoded in which bases \n",
    "alice_bases = randint(2, size=n)\n",
    "message = encode_message(alice_bits, alice_bases)\n",
    "\n",
    "## step 3 - decide which basis to measure in\n",
    "bob_bases = randint(2, size=n)\n",
    "bob_results = measure_message(message, bob_bases)\n",
    "\n",
    "## step 4 \n",
    "alice_key = remove_garbage(alice_bases, bob_bases, alice_bits)\n",
    "bob_key = remove_garbage(alice_bases, bob_bases, bob_results)\n",
    "\n",
    "# step 5 \n",
    "sample_size = 15\n",
    "bit_selection = randint(n, size=sample_size)\n",
    "\n",
    "bob_sample = sample_bits(bob_key, bit_selection)\n",
    "print(\" bob_sample = \" + str(bob_sample))\n",
    "alice_sample = sample_bits(alice_key, bit_selection)\n",
    "print(\" alice_sample = \" + str(alice_sample))\n",
    "if bob_sample == alice_sample:\n",
    "    print(\"key is safe\")\n",
    "else:\n",
    "    print(\"key is compromized\")\n",
    "print(\"Efficiency: \" + str(len(bob_key)/n))"
   ]
  },
  {
   "cell_type": "markdown",
   "metadata": {},
   "source": [
    "## Lab Results Recorded - Observing Changes in Length of Bit Sequence\n",
    "\n",
    "| N      | Efficiency |\n",
    "| :---        |    :----   |\n",
    "| 100      | 0.33       |\n",
    "| 200      | 0.44       |\n",
    "| 500      | 0.506       |\n",
    "| 1000      | 0.474       |\n",
    "\n",
    "How long of a sequence do you expect you will need to\n",
    "get close to 50% efficiency?\n",
    "\n",
    "Statistically the best we can do is 50%, since on average half of the bases pairs will be different. As we increase the number of bits the efficiency does go up but we will rarely get more than 50% (taken from lecture). So the length of the sequence does not really matter ( for reasons stated above), based on my results above a sequence length of 500 got ~51% efficiency whiles a sequence length of 1000 got ~47% efficiency. And looking at the results for N of 100, 200, 500, 1000 there in a noticable increase in efficiency as the sequence length goes up. \n"
   ]
  },
  {
   "cell_type": "code",
   "execution_count": 29,
   "metadata": {},
   "outputs": [
    {
     "name": "stdout",
     "output_type": "stream",
     "text": [
      " bob_sample = [0, 0, 1, 1, 1, 1, 0, 0, 1, 1, 1, 1, 0, 1, 1]\n",
      " alice_sample = [0, 0, 1, 1, 0, 1, 1, 1, 0, 0, 1, 1, 1, 0, 0]\n",
      "key is compromized\n",
      "Efficiency: 0.36\n"
     ]
    }
   ],
   "source": [
    "np.random.seed(seed=5)\n",
    "n = 100 \n",
    "\n",
    "## step 1 - alice generates bits \n",
    "alice_bits = randint(2, size=n)\n",
    "\n",
    "## step 2 - create an array to tell us which qubits \n",
    "# are encoded in which bases \n",
    "alice_bases = randint(2, size=n)\n",
    "message = encode_message(alice_bits, alice_bases)\n",
    "\n",
    "## step 3 - decide which basis to measure in\n",
    "bob_bases = randint(2, size=n)\n",
    "\n",
    "# DANGER, DANGER, DANGER !!!\n",
    "# Eve has intercepted the message \n",
    "# These 2 lines were added before bob measures the qubits. \n",
    "# so eve will be able to measure the qubits with a random \n",
    "# list basis before it reaches bob\n",
    "eve_bases = randint(2, size=n)\n",
    "intercapted_message = measure_message(message, eve_bases)\n",
    "\n",
    "bob_results = measure_message(message, bob_bases)\n",
    "\n",
    "## step 4 \n",
    "alice_key = remove_garbage(alice_bases, bob_bases, alice_bits)\n",
    "bob_key = remove_garbage(alice_bases, bob_bases, bob_results)\n",
    "\n",
    "# step 5 \n",
    "sample_size = 15\n",
    "bit_selection = randint(n, size=sample_size)\n",
    "\n",
    "bob_sample = sample_bits(bob_key, bit_selection)\n",
    "print(\" bob_sample = \" + str(bob_sample))\n",
    "alice_sample = sample_bits(alice_key, bit_selection)\n",
    "print(\" alice_sample = \" + str(alice_sample))\n",
    "if bob_sample == alice_sample:\n",
    "    print(\"key is safe\")\n",
    "else:\n",
    "    print(\"key is compromized\")\n",
    "print(\"Efficiency: \" + str(len(bob_key)/n))"
   ]
  },
  {
   "cell_type": "markdown",
   "metadata": {},
   "source": [
    "## Lab Results Recorded - Observing Number of Different Bits in the Sample Changes\n",
    "\n",
    "| Seed Number | Different bits | Efficiency | Compromized Detected | N      |\n",
    "| :----:      |    :----:      | :----:     | :----:               | :----: |\n",
    "| 0           |      3         | 0.33       |      True            | 100    |\n",
    "| 1           | 5              | 0.26       |      True            | 100    |\n",
    "| 2           | 11             | 0.31       |      True            | 100    |\n",
    "| 3           | 4              |   0.32     |      True            | 100    |\n",
    "| 4           | 8              |   0.43     |      True            | 100    |\n",
    "| 5           | 7              |   0.36     |      True            | 100    |"
   ]
  },
  {
   "cell_type": "markdown",
   "metadata": {},
   "source": [
    "## Balanced Functions "
   ]
  },
  {
   "cell_type": "code",
   "execution_count": 37,
   "metadata": {},
   "outputs": [
    {
     "data": {
      "image/png": "[encoded data removed]",
      "text/plain": [
       "<Figure size 447.797x264.88 with 1 Axes>"
      ]
     },
     "execution_count": 37,
     "metadata": {},
     "output_type": "execute_result"
    }
   ],
   "source": [
    "n = 3\n",
    "\n",
    "balanced_oracle = QuantumCircuit(n+1)\n",
    "\n",
    "#b_str determinmes the particular balanced function \n",
    "\n",
    "b_str = \"101\"\n",
    "\n",
    "# place x-gates \n",
    "for qubit in range(len(b_str)):\n",
    "    if b_str[qubit] == \"1\":\n",
    "        balanced_oracle.x(qubit)\n",
    "\n",
    "# use barrier as divider \n",
    "balanced_oracle.barrier()\n",
    "\n",
    "# controlled-NOT gates \n",
    "for qubit in range(n):\n",
    "    balanced_oracle.cx(qubit, n)\n",
    "\n",
    "balanced_oracle.barrier()\n",
    "balanced_oracle.draw('mpl')\n",
    "\n"
   ]
  },
  {
   "cell_type": "code",
   "execution_count": 40,
   "metadata": {},
   "outputs": [
    {
     "name": "stdout",
     "output_type": "stream",
     "text": [
      "Input:  0 , Value of Classical Bit:  0\n",
      "Input:  1 , Value of Classical Bit:  1\n",
      "Input:  2 , Value of Classical Bit:  1\n",
      "Input:  3 , Value of Classical Bit:  0\n",
      "Input:  4 , Value of Classical Bit:  1\n",
      "Input:  5 , Value of Classical Bit:  0\n",
      "Input:  6 , Value of Classical Bit:  0\n",
      "Input:  7 , Value of Classical Bit:  1\n"
     ]
    }
   ],
   "source": [
    "backend = Aer.get_backend('qasm_simulator')\n",
    "\n",
    "for i in range(8):\n",
    "    qc = QuantumCircuit(n+1, 1)\n",
    "    if i & 1:\n",
    "        qc.x(0)\n",
    "    if i & 2:\n",
    "        qc.x(1)\n",
    "    if i & 4:\n",
    "        qc.x(2)\n",
    "    qc.compose(balanced_oracle, inplace=True)\n",
    "    qc.measure(3,0)\n",
    "    result = execute(qc, backend, shots=1, memory=True).result()\n",
    "    print(\"Input: \", i, \", Value of Classical Bit: \", result.get_memory()[0])"
   ]
  },
  {
   "cell_type": "markdown",
   "metadata": {},
   "source": [
    "## Labs Results Recorded - Determining Circuit Balance\n",
    "| Input      | Value of Classical Bit |\n",
    "| :----:     |    :----:   |\n",
    "| 0          | 0           |\n",
    "| 1          | 1           |\n",
    "| 2          |  1          |\n",
    "| 3          | 0           |\n",
    "| 4          | 1           |\n",
    "| 5          | 0           |\n",
    "| 6          | 0           |\n",
    "| 7          | 1           |\n",
    "\n",
    "Is the function balanced? \n",
    "\n",
    "Equal number of 0s and 1s, thus the function is balanced.  "
   ]
  }
 ],
 "metadata": {
  "kernelspec": {
   "display_name": "Python 3",
   "language": "python",
   "name": "python3"
  },
  "language_info": {
   "codemirror_mode": {
    "name": "ipython",
    "version": 3
   },
   "file_extension": ".py",
   "mimetype": "text/x-python",
   "name": "python",
   "nbconvert_exporter": "python",
   "pygments_lexer": "ipython3",
   "version": "3.8.10"
  }
 },
 "nbformat": 4,
 "nbformat_minor": 2
}
